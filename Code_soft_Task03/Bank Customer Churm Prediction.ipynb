{
  "nbformat": 4,
  "nbformat_minor": 0,
  "metadata": {
    "colab": {
      "provenance": []
    },
    "kernelspec": {
      "name": "python3",
      "display_name": "Python 3"
    },
    "language_info": {
      "name": "python"
    }
  },
  "cells": [
    {
      "cell_type": "markdown",
      "source": [
        "##customer churn prediction##"
      ],
      "metadata": {
        "id": "0dl8MmDlP4Sc"
      }
    },
    {
      "cell_type": "markdown",
      "source": [
        "**Import libraries**"
      ],
      "metadata": {
        "id": "Z7i4bQhrQEg5"
      }
    },
    {
      "cell_type": "code",
      "execution_count": 7,
      "metadata": {
        "id": "CITyJt3sPoV3"
      },
      "outputs": [],
      "source": [
        "import pandas as pd\n",
        "from sklearn.model_selection import train_test_split\n",
        "from sklearn.preprocessing import LabelEncoder, StandardScaler\n",
        "from sklearn.linear_model import LogisticRegression\n",
        "from sklearn.ensemble import RandomForestClassifier\n",
        "from xgboost import XGBClassifier\n",
        "from sklearn.metrics import accuracy_score, precision_score, recall_score, f1_score, roc_auc_score\n",
        "from sklearn.model_selection import GridSearchCV\n",
        "import joblib"
      ]
    },
    {
      "cell_type": "markdown",
      "source": [
        "**Load dataset**"
      ],
      "metadata": {
        "id": "qDwDKCXpQ2MY"
      }
    },
    {
      "cell_type": "code",
      "source": [
        "data = pd.read_csv('/content/Churn_Modelling.csv')"
      ],
      "metadata": {
        "id": "gadW-GHYQcOf"
      },
      "execution_count": 8,
      "outputs": []
    },
    {
      "cell_type": "markdown",
      "source": [
        "**dataset info**"
      ],
      "metadata": {
        "id": "HUpLcncCRE59"
      }
    },
    {
      "cell_type": "code",
      "source": [
        "data.info()"
      ],
      "metadata": {
        "colab": {
          "base_uri": "https://localhost:8080/"
        },
        "id": "CqMXVHLWQoAm",
        "outputId": "0042093c-9673-444a-e1ec-e4958c8f8b4d"
      },
      "execution_count": 9,
      "outputs": [
        {
          "output_type": "stream",
          "name": "stdout",
          "text": [
            "<class 'pandas.core.frame.DataFrame'>\n",
            "RangeIndex: 10000 entries, 0 to 9999\n",
            "Data columns (total 14 columns):\n",
            " #   Column           Non-Null Count  Dtype  \n",
            "---  ------           --------------  -----  \n",
            " 0   RowNumber        10000 non-null  int64  \n",
            " 1   CustomerId       10000 non-null  int64  \n",
            " 2   Surname          10000 non-null  object \n",
            " 3   CreditScore      10000 non-null  int64  \n",
            " 4   Geography        10000 non-null  object \n",
            " 5   Gender           10000 non-null  object \n",
            " 6   Age              10000 non-null  int64  \n",
            " 7   Tenure           10000 non-null  int64  \n",
            " 8   Balance          10000 non-null  float64\n",
            " 9   NumOfProducts    10000 non-null  int64  \n",
            " 10  HasCrCard        10000 non-null  int64  \n",
            " 11  IsActiveMember   10000 non-null  int64  \n",
            " 12  EstimatedSalary  10000 non-null  float64\n",
            " 13  Exited           10000 non-null  int64  \n",
            "dtypes: float64(2), int64(9), object(3)\n",
            "memory usage: 1.1+ MB\n"
          ]
        }
      ]
    },
    {
      "cell_type": "markdown",
      "source": [
        "**Drop unnecessary data**"
      ],
      "metadata": {
        "id": "ZpVtbe32RKEZ"
      }
    },
    {
      "cell_type": "code",
      "source": [
        "data = data.drop(columns=[\"RowNumber\", \"CustomerId\", \"Surname\"])"
      ],
      "metadata": {
        "id": "tZ9ufTcJQuAs"
      },
      "execution_count": 10,
      "outputs": []
    },
    {
      "cell_type": "markdown",
      "source": [
        "**Data Encoding for categorical data**\n",
        "\n",
        "1.   Male = 1, Female = 0\n",
        "\n"
      ],
      "metadata": {
        "id": "KHIOzKDlRSXF"
      }
    },
    {
      "cell_type": "code",
      "source": [
        "label_encoder = LabelEncoder()\n",
        "data[\"Gender\"] = label_encoder.fit_transform(data[\"Gender\"])\n",
        "data = pd.get_dummies(data, columns=[\"Geography\"], drop_first=True)"
      ],
      "metadata": {
        "id": "5prkUq4EQxAF"
      },
      "execution_count": 11,
      "outputs": []
    },
    {
      "cell_type": "markdown",
      "source": [
        "**Check for null values**"
      ],
      "metadata": {
        "id": "eePJnzv1R7_g"
      }
    },
    {
      "cell_type": "code",
      "source": [
        "data.isnull().sum()"
      ],
      "metadata": {
        "colab": {
          "base_uri": "https://localhost:8080/",
          "height": 460
        },
        "id": "STwZzYe7Rof7",
        "outputId": "9d96bc90-7925-44e1-c39a-b9b8cef23a8d"
      },
      "execution_count": 12,
      "outputs": [
        {
          "output_type": "execute_result",
          "data": {
            "text/plain": [
              "CreditScore          0\n",
              "Gender               0\n",
              "Age                  0\n",
              "Tenure               0\n",
              "Balance              0\n",
              "NumOfProducts        0\n",
              "HasCrCard            0\n",
              "IsActiveMember       0\n",
              "EstimatedSalary      0\n",
              "Exited               0\n",
              "Geography_Germany    0\n",
              "Geography_Spain      0\n",
              "dtype: int64"
            ],
            "text/html": [
              "<div>\n",
              "<style scoped>\n",
              "    .dataframe tbody tr th:only-of-type {\n",
              "        vertical-align: middle;\n",
              "    }\n",
              "\n",
              "    .dataframe tbody tr th {\n",
              "        vertical-align: top;\n",
              "    }\n",
              "\n",
              "    .dataframe thead th {\n",
              "        text-align: right;\n",
              "    }\n",
              "</style>\n",
              "<table border=\"1\" class=\"dataframe\">\n",
              "  <thead>\n",
              "    <tr style=\"text-align: right;\">\n",
              "      <th></th>\n",
              "      <th>0</th>\n",
              "    </tr>\n",
              "  </thead>\n",
              "  <tbody>\n",
              "    <tr>\n",
              "      <th>CreditScore</th>\n",
              "      <td>0</td>\n",
              "    </tr>\n",
              "    <tr>\n",
              "      <th>Gender</th>\n",
              "      <td>0</td>\n",
              "    </tr>\n",
              "    <tr>\n",
              "      <th>Age</th>\n",
              "      <td>0</td>\n",
              "    </tr>\n",
              "    <tr>\n",
              "      <th>Tenure</th>\n",
              "      <td>0</td>\n",
              "    </tr>\n",
              "    <tr>\n",
              "      <th>Balance</th>\n",
              "      <td>0</td>\n",
              "    </tr>\n",
              "    <tr>\n",
              "      <th>NumOfProducts</th>\n",
              "      <td>0</td>\n",
              "    </tr>\n",
              "    <tr>\n",
              "      <th>HasCrCard</th>\n",
              "      <td>0</td>\n",
              "    </tr>\n",
              "    <tr>\n",
              "      <th>IsActiveMember</th>\n",
              "      <td>0</td>\n",
              "    </tr>\n",
              "    <tr>\n",
              "      <th>EstimatedSalary</th>\n",
              "      <td>0</td>\n",
              "    </tr>\n",
              "    <tr>\n",
              "      <th>Exited</th>\n",
              "      <td>0</td>\n",
              "    </tr>\n",
              "    <tr>\n",
              "      <th>Geography_Germany</th>\n",
              "      <td>0</td>\n",
              "    </tr>\n",
              "    <tr>\n",
              "      <th>Geography_Spain</th>\n",
              "      <td>0</td>\n",
              "    </tr>\n",
              "  </tbody>\n",
              "</table>\n",
              "</div><br><label><b>dtype:</b> int64</label>"
            ]
          },
          "metadata": {},
          "execution_count": 12
        }
      ]
    },
    {
      "cell_type": "markdown",
      "source": [
        "**Scale numerical features**"
      ],
      "metadata": {
        "id": "1VgCc2-vR2j4"
      }
    },
    {
      "cell_type": "code",
      "source": [
        "scaler = StandardScaler()\n",
        "numerical_features = [\"CreditScore\", \"Age\", \"Balance\", \"EstimatedSalary\"]\n",
        "data[numerical_features] = scaler.fit_transform(data[numerical_features])"
      ],
      "metadata": {
        "id": "NMHfW2zwR0IZ"
      },
      "execution_count": 13,
      "outputs": []
    },
    {
      "cell_type": "markdown",
      "source": [
        "**Separate features (X) and target (y)**"
      ],
      "metadata": {
        "id": "eJ1T7ERaSGxS"
      }
    },
    {
      "cell_type": "code",
      "source": [
        "X = data.drop(columns=[\"Exited\"])\n",
        "y = data[\"Exited\"]"
      ],
      "metadata": {
        "id": "sYkLDdoqSD1C"
      },
      "execution_count": 14,
      "outputs": []
    },
    {
      "cell_type": "markdown",
      "source": [
        "**Train-Test Split**"
      ],
      "metadata": {
        "id": "uDP2RnwMSOLe"
      }
    },
    {
      "cell_type": "code",
      "source": [
        "X_train, X_test, y_train, y_test = train_test_split(X, y, test_size=0.2, random_state=42)"
      ],
      "metadata": {
        "id": "IgbTabmtSQcc"
      },
      "execution_count": 15,
      "outputs": []
    },
    {
      "cell_type": "code",
      "source": [
        "X_train.shape\n",
        "X_test.shape"
      ],
      "metadata": {
        "colab": {
          "base_uri": "https://localhost:8080/"
        },
        "id": "9Fa1MpWBSVFX",
        "outputId": "a7a5afe5-ef4d-4720-eb9d-3aedf03fbe39"
      },
      "execution_count": 18,
      "outputs": [
        {
          "output_type": "execute_result",
          "data": {
            "text/plain": [
              "(2000, 11)"
            ]
          },
          "metadata": {},
          "execution_count": 18
        }
      ]
    },
    {
      "cell_type": "markdown",
      "source": [
        "**Training with different model**\n",
        "\n",
        "\n",
        "1.  Logistic Regression\n",
        "2.  Random Forest\n",
        "3.  Gradient Boosting\n",
        "\n"
      ],
      "metadata": {
        "id": "uJbUesDDSlky"
      }
    },
    {
      "cell_type": "markdown",
      "source": [
        "**Logistic Regression**"
      ],
      "metadata": {
        "id": "hQqMZkCJS6or"
      }
    },
    {
      "cell_type": "code",
      "source": [
        "lr_model = LogisticRegression(random_state=42)\n",
        "lr_model.fit(X_train, y_train)\n",
        "\n",
        "lr_predictions = lr_model.predict(X_test)"
      ],
      "metadata": {
        "id": "RvHje6YDSc_V"
      },
      "execution_count": 19,
      "outputs": []
    },
    {
      "cell_type": "markdown",
      "source": [
        "**Random Forest**"
      ],
      "metadata": {
        "id": "qmAAp1NAS_g0"
      }
    },
    {
      "cell_type": "code",
      "source": [
        "rf_model = RandomForestClassifier(random_state=42, n_estimators=100)\n",
        "rf_model.fit(X_train, y_train)\n",
        "\n",
        "\n",
        "rf_predictions = rf_model.predict(X_test)"
      ],
      "metadata": {
        "id": "-SH90DWwTCot"
      },
      "execution_count": 20,
      "outputs": []
    },
    {
      "cell_type": "markdown",
      "source": [
        "**Gradient Boosting**"
      ],
      "metadata": {
        "id": "6R7FxOS7TGWR"
      }
    },
    {
      "cell_type": "code",
      "source": [
        "xgb_model = XGBClassifier(random_state=42)\n",
        "xgb_model.fit(X_train, y_train)\n",
        "\n",
        "xgb_predictions = xgb_model.predict(X_test)"
      ],
      "metadata": {
        "id": "SktSY066TKj4"
      },
      "execution_count": 21,
      "outputs": []
    },
    {
      "cell_type": "markdown",
      "source": [
        "**Model Evaluation**"
      ],
      "metadata": {
        "id": "-v9KCKfITR3e"
      }
    },
    {
      "cell_type": "code",
      "source": [
        "def evaluate_model(y_test, predictions):\n",
        "    print(\"Accuracy:\", accuracy_score(y_test, predictions))\n",
        "    print(\"Precision:\", precision_score(y_test, predictions))\n",
        "    print(\"Recall:\", recall_score(y_test, predictions))\n",
        "    print(\"F1 Score:\", f1_score(y_test, predictions))\n",
        "    print(\"ROC-AUC:\", roc_auc_score(y_test, predictions))\n",
        "\n",
        "# Evaluate Logistic Regression\n",
        "print(\"Logistic Regression:\")\n",
        "evaluate_model(y_test, lr_predictions)\n",
        "\n",
        "# Evaluate Random Forest\n",
        "print(\"\\nRandom Forest:\")\n",
        "evaluate_model(y_test, rf_predictions)\n",
        "\n",
        "# Evaluate XGBoost\n",
        "print(\"\\nXGBoost:\")\n",
        "evaluate_model(y_test, xgb_predictions)"
      ],
      "metadata": {
        "colab": {
          "base_uri": "https://localhost:8080/"
        },
        "id": "FdsZGtuzTURW",
        "outputId": "5111c3d1-808f-401e-d806-ca8c2a6bccdc"
      },
      "execution_count": 22,
      "outputs": [
        {
          "output_type": "stream",
          "name": "stdout",
          "text": [
            "Logistic Regression:\n",
            "Accuracy: 0.8115\n",
            "Precision: 0.5563380281690141\n",
            "Recall: 0.2010178117048346\n",
            "F1 Score: 0.2953271028037383\n",
            "ROC-AUC: 0.5809071634753171\n",
            "\n",
            "Random Forest:\n",
            "Accuracy: 0.866\n",
            "Precision: 0.7659574468085106\n",
            "Recall: 0.4580152671755725\n",
            "F1 Score: 0.5732484076433121\n",
            "ROC-AUC: 0.7118950013538099\n",
            "\n",
            "XGBoost:\n",
            "Accuracy: 0.864\n",
            "Precision: 0.7137809187279152\n",
            "Recall: 0.5139949109414759\n",
            "F1 Score: 0.5976331360946746\n",
            "ROC-AUC: 0.7317952152716092\n"
          ]
        }
      ]
    },
    {
      "cell_type": "markdown",
      "source": [
        "**Hyperparameter Tuning**"
      ],
      "metadata": {
        "id": "n929NNvwTjSw"
      }
    },
    {
      "cell_type": "code",
      "source": [
        "param_grid = {\n",
        "    'n_estimators': [50, 100, 200],\n",
        "    'max_depth': [5, 10, 20],\n",
        "    'min_samples_split': [2, 5, 10]\n",
        "}\n",
        "\n",
        "# Grid Search\n",
        "grid_search = GridSearchCV(estimator=RandomForestClassifier(random_state=42),\n",
        "                           param_grid=param_grid, cv=3, scoring='accuracy', verbose=1)\n",
        "grid_search.fit(X_train, y_train)\n",
        "\n",
        "# Best Parameters\n",
        "print(\"Best Parameters:\", grid_search.best_params_)\n",
        "\n",
        "# Best Model\n",
        "best_rf_model = grid_search.best_estimator_\n",
        "\n",
        "# Predictions and Evaluation\n",
        "best_rf_predictions = best_rf_model.predict(X_test)\n",
        "print(\"\\nBest Random Forest:\")\n",
        "evaluate_model(y_test, best_rf_predictions)"
      ],
      "metadata": {
        "colab": {
          "base_uri": "https://localhost:8080/"
        },
        "id": "BlvRNiq_Te6T",
        "outputId": "9e74660c-b797-4946-91de-0eb51285be1e"
      },
      "execution_count": 23,
      "outputs": [
        {
          "output_type": "stream",
          "name": "stdout",
          "text": [
            "Fitting 3 folds for each of 27 candidates, totalling 81 fits\n",
            "Best Parameters: {'max_depth': 10, 'min_samples_split': 2, 'n_estimators': 100}\n",
            "\n",
            "Best Random Forest:\n",
            "Accuracy: 0.8645\n",
            "Precision: 0.7629310344827587\n",
            "Recall: 0.45038167938931295\n",
            "F1 Score: 0.5664\n",
            "ROC-AUC: 0.7080782074606801\n"
          ]
        }
      ]
    },
    {
      "cell_type": "markdown",
      "source": [
        "**Save the Model**"
      ],
      "metadata": {
        "id": "9uLWhnm_T2Cd"
      }
    },
    {
      "cell_type": "code",
      "source": [
        "# Save the best model\n",
        "joblib.dump(best_rf_model, \"best_rf_model.pkl\")\n",
        "\n",
        "# Save preprocessing steps (scaler and encoder)\n",
        "joblib.dump(scaler, \"scaler.pkl\")\n",
        "joblib.dump(label_encoder, \"label_encoder.pkl\")"
      ],
      "metadata": {
        "colab": {
          "base_uri": "https://localhost:8080/"
        },
        "id": "coV6t2KYT4p4",
        "outputId": "e822f7f3-1c9a-4485-e34a-eca1818c799e"
      },
      "execution_count": 24,
      "outputs": [
        {
          "output_type": "execute_result",
          "data": {
            "text/plain": [
              "['label_encoder.pkl']"
            ]
          },
          "metadata": {},
          "execution_count": 24
        }
      ]
    },
    {
      "cell_type": "markdown",
      "source": [
        "**Use the save model for testing**"
      ],
      "metadata": {
        "id": "3hN-xIZdUGUy"
      }
    },
    {
      "cell_type": "code",
      "source": [
        "# Load the model\n",
        "loaded_model = joblib.load(\"best_rf_model.pkl\")\n",
        "loaded_scaler = joblib.load(\"scaler.pkl\")\n",
        "loaded_label_encoder = joblib.load(\"label_encoder.pkl\")\n",
        "\n",
        "# Test with new data for prediction\n",
        "new_data = pd.DataFrame({\n",
        "    \"CreditScore\": [600],\n",
        "    \"Gender\": [loaded_label_encoder.transform([\"Male\"])[0]],\n",
        "    \"Age\": [40],\n",
        "    \"Tenure\": [5],\n",
        "    \"Balance\": [100000],\n",
        "    \"NumOfProducts\": [2],\n",
        "    \"HasCrCard\": [1],\n",
        "    \"IsActiveMember\": [1],\n",
        "    \"EstimatedSalary\": [50000],\n",
        "    \"Geography\": ['France'],\n",
        "})\n",
        "\n",
        "new_data = pd.get_dummies(new_data, columns=[\"Geography\"], drop_first=False)\n",
        "\n",
        "expected_geography_cols = ['Geography_France', 'Geography_Germany', 'Geography_Spain']\n",
        "for col in expected_geography_cols:\n",
        "    if col not in new_data.columns:\n",
        "        new_data[col] = 0\n",
        "\n",
        "\n",
        "X_train_columns = X_train.columns\n",
        "\n",
        "new_data = new_data.reindex(columns=X_train_columns, fill_value=0)\n",
        "\n",
        "\n",
        "#Scaling\n",
        "new_data[numerical_features] = loaded_scaler.transform(new_data[numerical_features])\n",
        "\n",
        "# Prediction\n",
        "new_prediction = loaded_model.predict(new_data)\n",
        "print(\"Churn Prediction (1=Churned, 0=Not Churned):\", new_prediction[0])\n"
      ],
      "metadata": {
        "colab": {
          "base_uri": "https://localhost:8080/"
        },
        "id": "L3ZlhyDfUMep",
        "outputId": "5e90fa38-8e91-4cda-a3bf-14dec3b188f4"
      },
      "execution_count": 27,
      "outputs": [
        {
          "output_type": "stream",
          "name": "stdout",
          "text": [
            "Churn Prediction (1=Churned, 0=Not Churned): 0\n"
          ]
        }
      ]
    }
  ]
}